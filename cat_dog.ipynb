{
 "cells": [
  {
   "cell_type": "markdown",
   "id": "48937283",
   "metadata": {},
   "source": [
    "# String-2 > cat_dog"
   ]
  },
  {
   "cell_type": "markdown",
   "id": "766edcc4",
   "metadata": {},
   "source": [
    "\n",
    "Return True if the string \"cat\" and \"dog\" appear the same number of times in the given string.\n",
    "\n",
    "\n",
    "cat_dog('catdog') → True\n",
    "\n",
    "cat_dog('catcat') → False\n",
    "\n",
    "cat_dog('1cat1cadodog') → True"
   ]
  },
  {
   "cell_type": "code",
   "execution_count": 1,
   "id": "a596f7d6",
   "metadata": {},
   "outputs": [],
   "source": [
    "def cat_dog(str):\n",
    "  cat_count = 0\n",
    "  dog_count = 0\n",
    "  il=0\n",
    "  \n",
    "  while il<=len(str)-1:\n",
    "    if str[il:il+3] == 'dog':\n",
    "      dog_count+=1\n",
    "    if str[il:il+3] == 'cat':\n",
    "      cat_count+=1\n",
    "    il+=1\n",
    "    \n",
    "  if dog_count==cat_count:\n",
    "    return True\n",
    "  else:\n",
    "    return False"
   ]
  }
 ],
 "metadata": {
  "kernelspec": {
   "display_name": "Python 3 (ipykernel)",
   "language": "python",
   "name": "python3"
  },
  "language_info": {
   "codemirror_mode": {
    "name": "ipython",
    "version": 3
   },
   "file_extension": ".py",
   "mimetype": "text/x-python",
   "name": "python",
   "nbconvert_exporter": "python",
   "pygments_lexer": "ipython3",
   "version": "3.9.12"
  }
 },
 "nbformat": 4,
 "nbformat_minor": 5
}
